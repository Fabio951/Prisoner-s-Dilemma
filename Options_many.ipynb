{
 "cells": [
  {
   "cell_type": "markdown",
   "metadata": {},
   "source": [
    "Here it will be possible to:\n",
    " - change the number of prisoners per population\n",
    " - change the number of iterations per challenge\n",
    " - set an initial population of all selfish prisoners\n",
    " - select the type of challenge\n",
    " - set some parameters for the evolution and mutation of the population\n",
    " - set the number of epochs the population has to go through\n",
    " - select the classes which take part in the competition"
   ]
  },
  {
   "cell_type": "markdown",
   "metadata": {},
   "source": [
    "#### Population and turnd per challenge"
   ]
  },
  {
   "cell_type": "markdown",
   "metadata": {},
   "source": [
    " - `n_gen` is the number of prisoners in the population\n",
    " - `n_turns` is the number of iterations per challenge\n",
    " - `initial_all_selfish = True` generates a population zero with all always defecting prisoners"
   ]
  },
  {
   "cell_type": "code",
   "execution_count": 11,
   "metadata": {},
   "outputs": [],
   "source": [
    "n_gen = 500\n",
    "n_turns = 100\n",
    "initial_all_selfish = False"
   ]
  },
  {
   "cell_type": "markdown",
   "metadata": {},
   "source": [
    "#### Type of challenge"
   ]
  },
  {
   "cell_type": "markdown",
   "metadata": {},
   "source": [
    "Select the challenge you want to use:\n",
    " - `all_vs_all` is the round-robin kind of competition. Since it's the slowest one, there is a progression bar implemented `display_bar = True`, for which it's possible to choose the update step(1-100, for small populations step of 10 is recommended, since it risks to slow down the process)\n",
    " - `one_vs_one` couples each prisoner of the population with just one other, so within a competition each prisoner goes through just one challenge (if the population number is odd, it deletes one prisoner)\n",
    " - `n_vs_n` divides the population in groups of `n_per_group` prisoners and proceed with a round_robin like competition within each group (if the population number is not exactly divisible, some prisoners may be excluded)\n",
    " - `all_vs_n` takes `n_challengers` random prisoners from the population and then every prisoner challenges against each one of them\n",
    " - obviously just one of them can be true, otherwise an exception is raised"
   ]
  },
  {
   "cell_type": "code",
   "execution_count": 13,
   "metadata": {},
   "outputs": [],
   "source": [
    "all_vs_all = False\n",
    "display_bar = False\n",
    "if all_vs_all==False:\n",
    "    display_bar = False\n",
    "step = 1\n",
    "\n",
    "one_vs_one = False\n",
    "\n",
    "n_vs_n = True\n",
    "n_per_group = 14\n",
    "\n",
    "all_vs_n = False\n",
    "n_challengers = 10\n",
    "\n",
    "if all_vs_all+one_vs_one+n_vs_n+all_vs_n!=1:\n",
    "    raise Exception('You selected more than one type of challenge')"
   ]
  },
  {
   "cell_type": "markdown",
   "metadata": {},
   "source": [
    "#### Evolution and mutation"
   ]
  },
  {
   "cell_type": "markdown",
   "metadata": {},
   "source": [
    " - `controlled_mutation` is the probability (0 to 1) of each prisoner to mutate in a controlled way, following the scheme in the presentation\n",
    " - `random_mutation` is the probability (0 to 1) of each prisoner to mutate randomly\n",
    " - `prob_gang` is the probability (0 to 1) of each prisoner of entering the gang\n",
    " - `prob_antitft` is a number (0 to 1) which, multiplied with the density of tft in the population, gives the probability for each prisoner to develop an antitft behaviour\n",
    " - obviously, the sum of these three previous quantities must not exceed 1\n",
    " - `power` and `offset` are two parameters which controlle the \"natural\" selection of the prisoners, as explained in the presentation; `power` raise the \"pdf\" of the prisoner survival chance to the power `power`, thus increasing the probability of keeping prisoners who made high results. `offset`, on the other hand, add a constant to the pdf, thus decreasing the probability of dying of the prisoners who made low results\n",
    " - `n_epoch` set the numer of epoch to which the population has to go through"
   ]
  },
  {
   "cell_type": "code",
   "execution_count": 2,
   "metadata": {},
   "outputs": [],
   "source": [
    "controlled_mutation = 0.08\n",
    "random_mutation = 0.05\n",
    "prob_gang = 0\n",
    "prob_antitft = 0\n",
    "\n",
    "power = 4\n",
    "offset = 0.01\n",
    "\n",
    "n_epoch = 30"
   ]
  },
  {
   "cell_type": "markdown",
   "metadata": {},
   "source": [
    "#### Classes selection"
   ]
  },
  {
   "cell_type": "markdown",
   "metadata": {},
   "source": [
    "Select the classes you want to introduce:\n",
    " - `use_selection = False` if you want to use all the classes\n",
    " - `use_base_package = 1(0)` if you want to use just the 5 basic classes: tft, coop, defect, nice, bad\n",
    " - all the others `1` if present `0` if not"
   ]
  },
  {
   "cell_type": "code",
   "execution_count": 1,
   "metadata": {},
   "outputs": [],
   "source": [
    "use_selection = True\n",
    "use_base_package = 0\n",
    "use_tft =          0\n",
    "use_alwayscoop =   1\n",
    "use_alwaysdef =    1\n",
    "use_mainlynice =   1\n",
    "use_mainlybad =    1\n",
    "use_random =       1\n",
    "use_ntft =         0\n",
    "use_angry =        0\n",
    "use_winstay =      1\n",
    "use_tftforgive =   0\n",
    "use_tftpunish =    0\n",
    "use_majority =     0\n",
    "use_methodical =   1\n",
    "use_changer =      0\n",
    "use_rspq =         1\n",
    "use_equalizer =    1\n",
    "use_extort =       1\n",
    "use_generous =     0\n",
    "use_gang =         0\n",
    "use_antitft =      1\n",
    "\n",
    "selection_classes = [use_selection,use_base_package,use_tft,use_alwayscoop,use_alwaysdef,use_mainlynice,use_mainlybad,\n",
    "                    use_random,use_ntft,use_angry,use_winstay,use_tftforgive,use_tftpunish,use_majority,\n",
    "                    use_methodical,use_changer,use_rspq,use_equalizer,use_extort,use_generous,\n",
    "                    use_gang,use_antitft]"
   ]
  }
 ],
 "metadata": {
  "kernelspec": {
   "display_name": "Python 3",
   "language": "python",
   "name": "python3"
  },
  "language_info": {
   "codemirror_mode": {
    "name": "ipython",
    "version": 3
   },
   "file_extension": ".py",
   "mimetype": "text/x-python",
   "name": "python",
   "nbconvert_exporter": "python",
   "pygments_lexer": "ipython3",
   "version": "3.7.1"
  }
 },
 "nbformat": 4,
 "nbformat_minor": 2
}
